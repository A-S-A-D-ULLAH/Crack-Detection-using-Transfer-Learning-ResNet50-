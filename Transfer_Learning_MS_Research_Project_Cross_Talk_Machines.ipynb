{
  "nbformat": 4,
  "nbformat_minor": 0,
  "metadata": {
    "colab": {
      "name": "Transfer_Learning_MS_Research_Project_Cross_Talk_Machines.ipynb",
      "provenance": [],
      "collapsed_sections": []
    },
    "kernelspec": {
      "name": "python3",
      "display_name": "Python 3"
    },
    "language_info": {
      "name": "python"
    },
    "accelerator": "GPU"
  },
  "cells": [
    {
      "cell_type": "code",
      "source": [
        "from google.colab import drive\n",
        "drive.mount('/content/drive')"
      ],
      "metadata": {
        "colab": {
          "base_uri": "https://localhost:8080/"
        },
        "id": "tjacHvTTBKie",
        "outputId": "fe438cf5-3deb-4757-afa3-c4d60a430219"
      },
      "execution_count": 6,
      "outputs": [
        {
          "output_type": "stream",
          "name": "stdout",
          "text": [
            "Mounted at /content/drive\n"
          ]
        }
      ]
    },
    {
      "cell_type": "code",
      "source": [
        "import tensorflow as tf\n",
        "from tensorflow import keras\n",
        "import numpy as numpy\n",
        "import cv2\n",
        "import random\n",
        "import pandas as pd\n",
        "import numpy as np\n",
        "import os\n",
        "import warnings\n",
        "import matplotlib.pyplot as plt\n",
        "warnings.filterwarnings('ignore')\n",
        "from tensorflow.keras.utils import plot_model\n",
        "from sklearn.model_selection import train_test_split"
      ],
      "metadata": {
        "id": "rjmSk7oqkfWE"
      },
      "execution_count": 116,
      "outputs": []
    },
    {
      "cell_type": "code",
      "source": [
        "import zipfile\n",
        "with zipfile.ZipFile(\"/content/drive/MyDrive/archive.zip\",\"r\") as zip_ref:\n",
        "    zip_ref.extractall(\"/content/drive/MyDrive/CRACK DATASET\")"
      ],
      "metadata": {
        "id": "bXC77SOTYQG1"
      },
      "execution_count": null,
      "outputs": []
    },
    {
      "cell_type": "markdown",
      "source": [
        "0 For positive and 1 For negative"
      ],
      "metadata": {
        "id": "sw7Cc9dhegnA"
      }
    },
    {
      "cell_type": "code",
      "source": [
        "DATA=[]\n",
        "for i,label in enumerate(['/content/drive/MyDrive/CRACK DATASET/Positive','/content/drive/MyDrive/CRACK DATASET/Negative']):\n",
        "    for image in os.listdir(label)[:8000]:\n",
        "            path=label+'/'+image\n",
        "            image=cv2.imread(path)\n",
        "            image=cv2.resize(image,(32,32))\n",
        "            DATA.append((image,i))\n",
        "DATA=np.array(DATA)\n",
        "random.shuffle(DATA)"
      ],
      "metadata": {
        "id": "Heare8HflB3g"
      },
      "execution_count": 117,
      "outputs": []
    },
    {
      "cell_type": "code",
      "source": [
        "DATA[:,1]"
      ],
      "metadata": {
        "colab": {
          "base_uri": "https://localhost:8080/"
        },
        "id": "R8UubSiIeEun",
        "outputId": "50a6f1c4-511a-445e-8d64-223c151faa79"
      },
      "execution_count": 118,
      "outputs": [
        {
          "output_type": "execute_result",
          "data": {
            "text/plain": [
              "array([0, 0, 0, ..., 1, 0, 1], dtype=object)"
            ]
          },
          "metadata": {},
          "execution_count": 118
        }
      ]
    },
    {
      "cell_type": "code",
      "source": [
        "Images=DATA[:,0]\n",
        "Labels=DATA[:,1]\n",
        "IMAGES=np.array([image for image in Images])\n",
        "IMAGES.shape"
      ],
      "metadata": {
        "colab": {
          "base_uri": "https://localhost:8080/"
        },
        "id": "_L_vycKidH1D",
        "outputId": "e5a45f76-ff0b-4b37-ff5b-65c315b28739"
      },
      "execution_count": 119,
      "outputs": [
        {
          "output_type": "execute_result",
          "data": {
            "text/plain": [
              "(16000, 32, 32, 3)"
            ]
          },
          "metadata": {},
          "execution_count": 119
        }
      ]
    },
    {
      "cell_type": "code",
      "source": [
        "plt.imshow(IMAGES[0])"
      ],
      "metadata": {
        "colab": {
          "base_uri": "https://localhost:8080/",
          "height": 283
        },
        "id": "uQnKn7ncddrC",
        "outputId": "7c994032-9eeb-4696-d488-a6a2315923a4"
      },
      "execution_count": 120,
      "outputs": [
        {
          "output_type": "execute_result",
          "data": {
            "text/plain": [
              "<matplotlib.image.AxesImage at 0x7f387ecc44d0>"
            ]
          },
          "metadata": {},
          "execution_count": 120
        },
        {
          "output_type": "display_data",
          "data": {
            "text/plain": [
              "<Figure size 432x288 with 1 Axes>"
            ],
            "image/png": "[encoded data removed]"
          },
          "metadata": {
            "needs_background": "light"
          }
        }
      ]
    },
    {
      "cell_type": "code",
      "source": [
        "x_train,x_test,y_train,y_test=train_test_split(IMAGES,Labels,test_size=0.2)"
      ],
      "metadata": {
        "id": "pONuJIAmdIFx"
      },
      "execution_count": 121,
      "outputs": []
    },
    {
      "cell_type": "code",
      "source": [
        "pd.Series(y_train).value_counts()"
      ],
      "metadata": {
        "colab": {
          "base_uri": "https://localhost:8080/"
        },
        "id": "uvzdQ8a_dnns",
        "outputId": "ffd46fc9-9ac2-4f35-99af-1be0756a0a69"
      },
      "execution_count": 122,
      "outputs": [
        {
          "output_type": "execute_result",
          "data": {
            "text/plain": [
              "0    10842\n",
              "1     1958\n",
              "dtype: int64"
            ]
          },
          "metadata": {},
          "execution_count": 122
        }
      ]
    },
    {
      "cell_type": "code",
      "source": [
        "pd.Series(y_test).value_counts()"
      ],
      "metadata": {
        "colab": {
          "base_uri": "https://localhost:8080/"
        },
        "id": "G-rs0JrLdn2N",
        "outputId": "3ca1789e-e1aa-4286-f35e-a8cc0b12e068"
      },
      "execution_count": 123,
      "outputs": [
        {
          "output_type": "execute_result",
          "data": {
            "text/plain": [
              "0    2733\n",
              "1     467\n",
              "dtype: int64"
            ]
          },
          "metadata": {},
          "execution_count": 123
        }
      ]
    },
    {
      "cell_type": "code",
      "source": [
        "Rescaled_x_train=x_train/255.0\n",
        "Rescaled__x_test=x_test/255.0"
      ],
      "metadata": {
        "id": "SE_gi71Xdr7s"
      },
      "execution_count": 124,
      "outputs": []
    },
    {
      "cell_type": "code",
      "source": [
        "type(Rescaled_x_train)"
      ],
      "metadata": {
        "colab": {
          "base_uri": "https://localhost:8080/"
        },
        "id": "uMFmj7P5pkeB",
        "outputId": "76a22051-9025-4eff-c3b6-5d13fdc8e84e"
      },
      "execution_count": 125,
      "outputs": [
        {
          "output_type": "execute_result",
          "data": {
            "text/plain": [
              "numpy.ndarray"
            ]
          },
          "metadata": {},
          "execution_count": 125
        }
      ]
    },
    {
      "cell_type": "code",
      "source": [
        "X = np.asarray(Rescaled_x_train).astype(np.float32)\n",
        "x_test= np.asarray(Rescaled__x_test).astype(np.float32)\n",
        "Y=np.asarray(y_train).astype(np.float32)\n",
        "y_test=np.asarray(y_test).astype(np.float32)"
      ],
      "metadata": {
        "id": "3ho3pBIfl5a-"
      },
      "execution_count": 126,
      "outputs": []
    },
    {
      "cell_type": "code",
      "source": [
        "plt.imshow(Rescaled_x_train[0])"
      ],
      "metadata": {
        "colab": {
          "base_uri": "https://localhost:8080/",
          "height": 283
        },
        "id": "f6pZk34jkZs3",
        "outputId": "573fd6ec-6699-4524-df5b-c30a07186d08"
      },
      "execution_count": 128,
      "outputs": [
        {
          "output_type": "execute_result",
          "data": {
            "text/plain": [
              "<matplotlib.image.AxesImage at 0x7f387ec74a10>"
            ]
          },
          "metadata": {},
          "execution_count": 128
        },
        {
          "output_type": "display_data",
          "data": {
            "text/plain": [
              "<Figure size 432x288 with 1 Axes>"
            ],
            "image/png": "[encoded data removed]"
          },
          "metadata": {
            "needs_background": "light"
          }
        }
      ]
    },
    {
      "cell_type": "markdown",
      "source": [
        "Mobile Net V2"
      ],
      "metadata": {
        "id": "PZdLaPxdd6WX"
      }
    },
    {
      "cell_type": "code",
      "execution_count": null,
      "metadata": {
        "colab": {
          "base_uri": "https://localhost:8080/"
        },
        "id": "K3hKXAOYjSsY",
        "outputId": "70c249c2-fcef-464e-b743-26b61065c630"
      },
      "outputs": [
        {
          "output_type": "stream",
          "name": "stdout",
          "text": [
            "WARNING:tensorflow:`input_shape` is undefined or non-square, or `rows` is not in [96, 128, 160, 192, 224]. Weights for input shape (224, 224) will be loaded as the default.\n",
            "Downloading data from https://storage.googleapis.com/tensorflow/keras-applications/mobilenet_v2/mobilenet_v2_weights_tf_dim_ordering_tf_kernels_1.0_224_no_top.h5\n",
            "9412608/9406464 [==============================] - 0s 0us/step\n",
            "9420800/9406464 [==============================] - 0s 0us/step\n"
          ]
        }
      ],
      "source": [
        "MobileNetV2_model = tf.keras.applications.MobileNetV2(input_shape=(32,32,3),\n",
        "                                               include_top=False,\n",
        "                                               weights='imagenet')\n",
        "MobileNetV2_model.trainable = False\n",
        "Hidden_1=keras.layers.Dense(50,activation='relu')(keras.layers.Flatten()(MobileNetV2_model.output))\n",
        "output=keras.layers.Dense(1,activation='sigmoid')(Hidden_1)\n",
        "Model=keras.models.Model([MobileNetV2_model.input],[output])"
      ]
    },
    {
      "cell_type": "code",
      "source": [
        "Model.summary()"
      ],
      "metadata": {
        "id": "UhXRkqTMk0fU"
      },
      "execution_count": null,
      "outputs": []
    },
    {
      "cell_type": "code",
      "source": [
        "Model.compile(optimizer=keras.optimizers.Adam(learning_rate=0.01),loss='binary_crossentropy',metrics=['Accuracy'])"
      ],
      "metadata": {
        "id": "-B3GdyUUlK6w"
      },
      "execution_count": null,
      "outputs": []
    },
    {
      "cell_type": "code",
      "source": [
        "Model.fit(X,Y,epochs=10)"
      ],
      "metadata": {
        "colab": {
          "base_uri": "https://localhost:8080/"
        },
        "id": "euYP815inFyG",
        "outputId": "4006e352-0858-4386-b730-1618ecfdbe92"
      },
      "execution_count": null,
      "outputs": [
        {
          "output_type": "stream",
          "name": "stdout",
          "text": [
            "Epoch 1/10\n",
            "400/400 [==============================] - 18s 27ms/step - loss: 0.2417 - Accuracy: 0.8969\n",
            "Epoch 2/10\n",
            "400/400 [==============================] - 11s 27ms/step - loss: 0.1247 - Accuracy: 0.9470\n",
            "Epoch 3/10\n",
            "400/400 [==============================] - 11s 27ms/step - loss: 0.1052 - Accuracy: 0.9587\n",
            "Epoch 4/10\n",
            "400/400 [==============================] - 11s 26ms/step - loss: 0.1147 - Accuracy: 0.9513\n",
            "Epoch 5/10\n",
            "400/400 [==============================] - 10s 26ms/step - loss: 0.0831 - Accuracy: 0.9660\n",
            "Epoch 6/10\n",
            "400/400 [==============================] - 11s 26ms/step - loss: 0.0917 - Accuracy: 0.9623\n",
            "Epoch 7/10\n",
            "400/400 [==============================] - 11s 26ms/step - loss: 0.0940 - Accuracy: 0.9609\n",
            "Epoch 8/10\n",
            "400/400 [==============================] - 11s 28ms/step - loss: 0.0771 - Accuracy: 0.9694\n",
            "Epoch 9/10\n",
            "400/400 [==============================] - 11s 27ms/step - loss: 0.0822 - Accuracy: 0.9665\n",
            "Epoch 10/10\n",
            "400/400 [==============================] - 11s 27ms/step - loss: 0.0788 - Accuracy: 0.9680\n"
          ]
        },
        {
          "output_type": "execute_result",
          "data": {
            "text/plain": [
              "<keras.callbacks.History at 0x7efeda6fded0>"
            ]
          },
          "metadata": {},
          "execution_count": 56
        }
      ]
    },
    {
      "cell_type": "code",
      "source": [
        "len(Model.trainable_variables)"
      ],
      "metadata": {
        "colab": {
          "base_uri": "https://localhost:8080/"
        },
        "id": "Ey9qHEfAoMBC",
        "outputId": "0e64b825-0530-4f9d-9da2-b4da5b7e15e4"
      },
      "execution_count": null,
      "outputs": [
        {
          "output_type": "execute_result",
          "data": {
            "text/plain": [
              "4"
            ]
          },
          "metadata": {},
          "execution_count": 57
        }
      ]
    },
    {
      "cell_type": "code",
      "source": [
        "ResNet152_model = tf.keras.applications.ResNet152(weights = 'imagenet', \n",
        "                                                  include_top = False, input_shape = (32,32,3))\n",
        "ResNet152_model.trainable=False\n",
        "x = keras.layers.Flatten()(ResNet152_model.output)\n",
        "x = keras.layers.Dense(100, activation='relu')(x)\n",
        "output = keras.layers.Dense(1, activation = 'sigmoid')(x)\n",
        "Model=keras.models.Model([ResNet152_model.input],[output])"
      ],
      "metadata": {
        "id": "u-0CvA-xnznT"
      },
      "execution_count": null,
      "outputs": []
    },
    {
      "cell_type": "code",
      "source": [
        "Model.compile(optimizer=keras.optimizers.Adam(learning_rate=0.01),\n",
        "              loss='binary_crossentropy',metrics=['Accuracy'])"
      ],
      "metadata": {
        "id": "4jA1N1FPofsx"
      },
      "execution_count": null,
      "outputs": []
    },
    {
      "cell_type": "code",
      "source": [
        "hist=Model.fit(X,Y,epochs=10)"
      ],
      "metadata": {
        "id": "G9EdPkGIslKP",
        "colab": {
          "base_uri": "https://localhost:8080/"
        },
        "outputId": "c5660cb8-e312-42b2-b168-76d02b1de574"
      },
      "execution_count": null,
      "outputs": [
        {
          "output_type": "stream",
          "name": "stdout",
          "text": [
            "Epoch 1/10\n",
            "400/400 [==============================] - 51s 79ms/step - loss: 0.2244 - Accuracy: 0.9040\n",
            "Epoch 2/10\n",
            "400/400 [==============================] - 28s 70ms/step - loss: 0.1014 - Accuracy: 0.9624\n",
            "Epoch 3/10\n",
            "400/400 [==============================] - 27s 68ms/step - loss: 0.1078 - Accuracy: 0.9559\n",
            "Epoch 4/10\n",
            "400/400 [==============================] - 29s 72ms/step - loss: 0.0878 - Accuracy: 0.9666\n",
            "Epoch 5/10\n",
            "400/400 [==============================] - 29s 73ms/step - loss: 0.0940 - Accuracy: 0.9631\n",
            "Epoch 6/10\n",
            "400/400 [==============================] - 29s 73ms/step - loss: 0.1003 - Accuracy: 0.9588\n",
            "Epoch 7/10\n",
            "400/400 [==============================] - 27s 68ms/step - loss: 0.0782 - Accuracy: 0.9691\n",
            "Epoch 8/10\n",
            "400/400 [==============================] - 28s 70ms/step - loss: 0.0803 - Accuracy: 0.9695\n",
            "Epoch 9/10\n",
            "400/400 [==============================] - 28s 69ms/step - loss: 0.0827 - Accuracy: 0.9687\n",
            "Epoch 10/10\n",
            "400/400 [==============================] - 28s 69ms/step - loss: 0.0765 - Accuracy: 0.9697\n"
          ]
        }
      ]
    },
    {
      "cell_type": "code",
      "source": [
        "pd.DataFrame(hist.history).plot()\n",
        "plt.grid()\n",
        "plt.gca().set_ylim(0,1)\n",
        "plt.show()"
      ],
      "metadata": {
        "colab": {
          "base_uri": "https://localhost:8080/",
          "height": 269
        },
        "id": "eSpyGYHOrD3y",
        "outputId": "b10678c3-a5e7-40a6-8a9c-023b12f7e89d"
      },
      "execution_count": null,
      "outputs": [
        {
          "output_type": "display_data",
          "data": {
            "text/plain": [
              "<Figure size 432x288 with 1 Axes>"
            ],
            "image/png": "[encoded data removed]"
          },
          "metadata": {
            "needs_background": "light"
          }
        }
      ]
    },
    {
      "cell_type": "code",
      "source": [
        "len(Model.trainable_variables)"
      ],
      "metadata": {
        "colab": {
          "base_uri": "https://localhost:8080/"
        },
        "id": "vzoEjFnOcD1X",
        "outputId": "b92b350f-5a5c-4f99-a021-0f140784100f"
      },
      "execution_count": null,
      "outputs": [
        {
          "output_type": "execute_result",
          "data": {
            "text/plain": [
              "4"
            ]
          },
          "metadata": {},
          "execution_count": 62
        }
      ]
    },
    {
      "cell_type": "markdown",
      "source": [
        "#Double Step Learning"
      ],
      "metadata": {
        "id": "t7lx3UkqdY7q"
      }
    },
    {
      "cell_type": "code",
      "source": [
        "import zipfile\n",
        "with zipfile.ZipFile(\"/content/drive/MyDrive/SDNET2018.zip\",\"r\") as zip_ref:\n",
        "    zip_ref.extractall(\"/content/drive/MyDrive/CRACK DATASET/crack_dataset_2\")"
      ],
      "metadata": {
        "id": "6tRLxA4q0q_v"
      },
      "execution_count": 11,
      "outputs": []
    },
    {
      "cell_type": "code",
      "source": [
        "def GET_Double_step_data(path_1,path_2):\n",
        "  DATA_2=[]\n",
        "  for i,label in enumerate([path_1,path_2]):\n",
        "    for image in os.listdir(label)[:2000]:\n",
        "      path=label+'/'+image\n",
        "      image=cv2.imread(path)\n",
        "      image=cv2.resize(image,(32,32))\n",
        "      DATA_2.append((image,i))\n",
        "  return np.array(DATA_2)"
      ],
      "metadata": {
        "id": "sPwTLQT28xBe"
      },
      "execution_count": 140,
      "outputs": []
    },
    {
      "cell_type": "code",
      "source": [
        "from sklearn.utils import shuffle\n",
        "D_data=GET_Double_step_data('/content/drive/MyDrive/CRACK DATASET/crack_dataset_2/D/CD','/content/drive/MyDrive/CRACK DATASET/crack_dataset_2/D/UD')\n",
        "D_data=shuffle(D_data)\n",
        "P_data=GET_Double_step_data('/content/drive/MyDrive/CRACK DATASET/crack_dataset_2/P/CP','/content/drive/MyDrive/CRACK DATASET/crack_dataset_2/P/UP')\n",
        "P_data=shuffle(P_data)\n",
        "W_data=GET_Double_step_data('/content/drive/MyDrive/CRACK DATASET/crack_dataset_2/W/CW','/content/drive/MyDrive/CRACK DATASET/crack_dataset_2/W/UW')\n",
        "W_data=shuffle(W_data)\n"
      ],
      "metadata": {
        "id": "lyuNyq-E_lvJ"
      },
      "execution_count": 141,
      "outputs": []
    },
    {
      "cell_type": "code",
      "source": [
        "D_data_images=D_data[:,0]\n",
        "D_data_labels=D_data[:,1]\n",
        "P_data_images=P_data[:,0]\n",
        "P_data_labels=P_data[:,1]\n",
        "W_data_images=W_data[:,0]\n",
        "W_data_labels=W_data[:,1]\n",
        "D_data_images=np.array([image for image in D_data_images])\n",
        "P_data_images=np.array([image for image in P_data_images])\n",
        "W_data_images=np.array([image for image in W_data_images])\n",
        "D_data_images.shape,P_data_images.shape,W_data_images.shape"
      ],
      "metadata": {
        "colab": {
          "base_uri": "https://localhost:8080/"
        },
        "id": "iRUoeVV882jR",
        "outputId": "61ce2c1a-ae1c-4824-964a-23d48ecbc48d"
      },
      "execution_count": 142,
      "outputs": [
        {
          "output_type": "execute_result",
          "data": {
            "text/plain": [
              "((4000, 32, 32, 3), (4000, 32, 32, 3), (4000, 32, 32, 3))"
            ]
          },
          "metadata": {},
          "execution_count": 142
        }
      ]
    },
    {
      "cell_type": "code",
      "source": [
        "d=pd.DataFrame({'images':list(D_data_images)})\n",
        "p=pd.DataFrame({'images':list(P_data_images)})\n",
        "w=pd.DataFrame({'images':list(W_data_images)})\n",
        "d_label=pd.DataFrame({'LABELS':list(D_data_labels)})\n",
        "p_label=pd.DataFrame({'LABELS':list(P_data_labels)})\n",
        "w_label=pd.DataFrame({'LABELS':list(W_data_labels)})"
      ],
      "metadata": {
        "id": "QSze9XjkDHcn"
      },
      "execution_count": 143,
      "outputs": []
    },
    {
      "cell_type": "code",
      "source": [
        "ALL_IMAGES=pd.concat([d,p,w])\n",
        "ALL_LABELS=pd.concat([d_label,p_label,w_label])"
      ],
      "metadata": {
        "id": "4KaM5sudJtBg"
      },
      "execution_count": 144,
      "outputs": []
    },
    {
      "cell_type": "code",
      "source": [
        "ALL_IMAGES=np.array([ i for i in ALL_IMAGES['images'].values])"
      ],
      "metadata": {
        "id": "tjUGsZKaKAa5"
      },
      "execution_count": 145,
      "outputs": []
    },
    {
      "cell_type": "code",
      "source": [
        "ALL_LABELS=np.array(ALL_LABELS)\n",
        "ALL_LABELS.shape"
      ],
      "metadata": {
        "colab": {
          "base_uri": "https://localhost:8080/"
        },
        "id": "oO8In8ewKbX1",
        "outputId": "9b1dd942-5657-42cb-eac3-4d4ceaa833a1"
      },
      "execution_count": 146,
      "outputs": [
        {
          "output_type": "execute_result",
          "data": {
            "text/plain": [
              "(12000, 1)"
            ]
          },
          "metadata": {},
          "execution_count": 146
        }
      ]
    },
    {
      "cell_type": "code",
      "source": [
        "ALL_LABELS"
      ],
      "metadata": {
        "colab": {
          "base_uri": "https://localhost:8080/"
        },
        "id": "ExF6bKOcKixp",
        "outputId": "a3684237-b9a1-4005-a599-119147033f5c"
      },
      "execution_count": 147,
      "outputs": [
        {
          "output_type": "execute_result",
          "data": {
            "text/plain": [
              "array([[0],\n",
              "       [1],\n",
              "       [1],\n",
              "       ...,\n",
              "       [1],\n",
              "       [0],\n",
              "       [1]])"
            ]
          },
          "metadata": {},
          "execution_count": 147
        }
      ]
    },
    {
      "cell_type": "code",
      "source": [
        "plt.imshow(ALL_IMAGES[35])"
      ],
      "metadata": {
        "colab": {
          "base_uri": "https://localhost:8080/",
          "height": 283
        },
        "id": "3HI7ZbjdKlBv",
        "outputId": "9a59d2ad-7f04-4889-f7c6-7ab89d24e649"
      },
      "execution_count": 148,
      "outputs": [
        {
          "output_type": "execute_result",
          "data": {
            "text/plain": [
              "<matplotlib.image.AxesImage at 0x7f387fa20fd0>"
            ]
          },
          "metadata": {},
          "execution_count": 148
        },
        {
          "output_type": "display_data",
          "data": {
            "text/plain": [
              "<Figure size 432x288 with 1 Axes>"
            ],
            "image/png": "[encoded data removed]"
          },
          "metadata": {
            "needs_background": "light"
          }
        }
      ]
    },
    {
      "cell_type": "code",
      "source": [
        "ALL_LABELS[35]"
      ],
      "metadata": {
        "colab": {
          "base_uri": "https://localhost:8080/"
        },
        "id": "ohnCiwbqK5Yp",
        "outputId": "b5e253e2-1067-42d6-99f5-8b1bf789c75e"
      },
      "execution_count": 149,
      "outputs": [
        {
          "output_type": "execute_result",
          "data": {
            "text/plain": [
              "array([0])"
            ]
          },
          "metadata": {},
          "execution_count": 149
        }
      ]
    },
    {
      "cell_type": "code",
      "source": [
        "x_train_2,x_test_2,y_train_2,y_test_2=train_test_split(ALL_IMAGES,ALL_LABELS,test_size=0.2)"
      ],
      "metadata": {
        "id": "iihp_AMaLHAw"
      },
      "execution_count": 150,
      "outputs": []
    },
    {
      "cell_type": "code",
      "source": [
        "scaled_x_train_2=x_train_2/255.0\n",
        "scaled_x_test_2=x_test_2/255.0"
      ],
      "metadata": {
        "id": "RSOHsew9LgZx"
      },
      "execution_count": 151,
      "outputs": []
    },
    {
      "cell_type": "code",
      "source": [
        "y_train_2=np.asarray(y_train_2).astype(np.float32)\n",
        "y_test_2=np.asarray(y_test_2).astype(np.float32)"
      ],
      "metadata": {
        "id": "NaHdN-k-LR5Q"
      },
      "execution_count": 152,
      "outputs": []
    },
    {
      "cell_type": "code",
      "source": [
        "y_train_2.shape,y_test_2.shape"
      ],
      "metadata": {
        "colab": {
          "base_uri": "https://localhost:8080/"
        },
        "id": "bORB8eijP3PZ",
        "outputId": "2301a5c0-1b0b-40e2-e412-97b42ea31ea5"
      },
      "execution_count": 153,
      "outputs": [
        {
          "output_type": "execute_result",
          "data": {
            "text/plain": [
              "((9600, 1), (2400, 1))"
            ]
          },
          "metadata": {},
          "execution_count": 153
        }
      ]
    },
    {
      "cell_type": "markdown",
      "source": [
        "First step (in Double step transfer learning)"
      ],
      "metadata": {
        "id": "RescoRhptbmB"
      }
    },
    {
      "cell_type": "code",
      "source": [
        "resnet50_model=keras.applications.resnet.ResNet50(include_top=False, \n",
        "                                                  weights='imagenet',\n",
        "                                                  input_shape=(32,32,3))"
      ],
      "metadata": {
        "id": "jQbRu64Ilmah"
      },
      "execution_count": 168,
      "outputs": []
    },
    {
      "cell_type": "code",
      "source": [
        "for layer in resnet50_model.layers:\n",
        "  layer.trainable=False"
      ],
      "metadata": {
        "id": "-Hgm6F0g6PtU"
      },
      "execution_count": 169,
      "outputs": []
    },
    {
      "cell_type": "code",
      "source": [
        "flat=keras.layers.Flatten()(resnet50_model.output)\n",
        "Hidden_1=keras.layers.Dense(100,activation='relu')(flat)\n",
        "output=keras.layers.Dense(1,activation='sigmoid')(Hidden_1)\n",
        "ResNet_50_Model=keras.models.Model([resnet50_model.input],[output])"
      ],
      "metadata": {
        "id": "Dh7FmeeR6PyA"
      },
      "execution_count": 170,
      "outputs": []
    },
    {
      "cell_type": "code",
      "source": [
        "ResNet_50_Model.compile(optimizer=keras.optimizers.Adam(learning_rate=0.001),\n",
        "              loss='binary_crossentropy',metrics=['Accuracy'])\n",
        "hist=ResNet_50_Model.fit(scaled_x_train_2,y_train_2,epochs=10)"
      ],
      "metadata": {
        "id": "cNEgQiGCudZh",
        "colab": {
          "base_uri": "https://localhost:8080/"
        },
        "outputId": "7e5ef9be-3264-4128-a26e-ba207f9c8393"
      },
      "execution_count": 171,
      "outputs": [
        {
          "output_type": "stream",
          "name": "stdout",
          "text": [
            "Epoch 1/10\n",
            "300/300 [==============================] - 11s 26ms/step - loss: 0.7113 - Accuracy: 0.5065\n",
            "Epoch 2/10\n",
            "300/300 [==============================] - 8s 25ms/step - loss: 0.6989 - Accuracy: 0.5163\n",
            "Epoch 3/10\n",
            "300/300 [==============================] - 8s 26ms/step - loss: 0.6912 - Accuracy: 0.5308\n",
            "Epoch 4/10\n",
            "300/300 [==============================] - 8s 26ms/step - loss: 0.6912 - Accuracy: 0.5317\n",
            "Epoch 5/10\n",
            "300/300 [==============================] - 8s 26ms/step - loss: 0.6870 - Accuracy: 0.5380\n",
            "Epoch 6/10\n",
            "300/300 [==============================] - 8s 26ms/step - loss: 0.6843 - Accuracy: 0.5354\n",
            "Epoch 7/10\n",
            "300/300 [==============================] - 8s 26ms/step - loss: 0.6825 - Accuracy: 0.5403\n",
            "Epoch 8/10\n",
            "300/300 [==============================] - 8s 26ms/step - loss: 0.6774 - Accuracy: 0.5456\n",
            "Epoch 9/10\n",
            "300/300 [==============================] - 8s 26ms/step - loss: 0.6835 - Accuracy: 0.5349\n",
            "Epoch 10/10\n",
            "300/300 [==============================] - 8s 26ms/step - loss: 0.6815 - Accuracy: 0.5415\n"
          ]
        }
      ]
    },
    {
      "cell_type": "code",
      "source": [
        "ResNet_50_Model.evaluate(x_test,y_test)"
      ],
      "metadata": {
        "colab": {
          "base_uri": "https://localhost:8080/"
        },
        "id": "t-lP5qeJuJAK",
        "outputId": "ae89554f-5eba-4013-82a7-1e8567562d06"
      },
      "execution_count": 172,
      "outputs": [
        {
          "output_type": "stream",
          "name": "stdout",
          "text": [
            "100/100 [==============================] - 4s 27ms/step - loss: 0.3577 - Accuracy: 0.8800\n"
          ]
        },
        {
          "output_type": "execute_result",
          "data": {
            "text/plain": [
              "[0.3576713800430298, 0.8799999952316284]"
            ]
          },
          "metadata": {},
          "execution_count": 172
        }
      ]
    },
    {
      "cell_type": "markdown",
      "source": [
        "Second Step (in Double step transfer learning)"
      ],
      "metadata": {
        "id": "h4oJLAnJtU7O"
      }
    },
    {
      "cell_type": "code",
      "source": [
        "for layer in ResNet_50_Model.layers:\n",
        "  layer.trainable=False\n",
        "Hidden_1_second=keras.layers.Conv2D(16,(3,3),padding='same',activation='relu')(ResNet_50_Model.get_layer('conv5_block3_out').output)\n",
        "flat_second=keras.layers.Flatten()(Hidden_1_second)\n",
        "hidden_2_second=keras.layers.Dense(200,activation='relu')(flat_second)\n",
        "output_second=keras.layers.Dense(1,activation='sigmoid')(hidden_2_second)\n",
        "Second_Step_Model=keras.models.Model([ResNet_50_Model.input],[output_second])"
      ],
      "metadata": {
        "id": "6v5dhqlUxrFX"
      },
      "execution_count": 174,
      "outputs": []
    },
    {
      "cell_type": "code",
      "source": [
        "Second_Step_Model.compile(optimizer=keras.optimizers.Adam(learning_rate=0.001),\n",
        "              loss='binary_crossentropy',metrics=['Accuracy'])\n",
        "hist_2=Second_Step_Model.fit(X,Y,epochs=10)"
      ],
      "metadata": {
        "colab": {
          "base_uri": "https://localhost:8080/"
        },
        "id": "3Ostsc82xrJT",
        "outputId": "334bb4bc-76ec-4225-e1ed-4f0ea82c5909"
      },
      "execution_count": 175,
      "outputs": [
        {
          "output_type": "stream",
          "name": "stdout",
          "text": [
            "Epoch 1/10\n",
            "400/400 [==============================] - 16s 30ms/step - loss: 0.2611 - Accuracy: 0.8927\n",
            "Epoch 2/10\n",
            "400/400 [==============================] - 12s 30ms/step - loss: 0.1034 - Accuracy: 0.9585\n",
            "Epoch 3/10\n",
            "400/400 [==============================] - 12s 29ms/step - loss: 0.0852 - Accuracy: 0.9651\n",
            "Epoch 4/10\n",
            "400/400 [==============================] - 12s 29ms/step - loss: 0.0898 - Accuracy: 0.9641\n",
            "Epoch 5/10\n",
            "400/400 [==============================] - 12s 29ms/step - loss: 0.0811 - Accuracy: 0.9670\n",
            "Epoch 6/10\n",
            "400/400 [==============================] - 12s 30ms/step - loss: 0.0812 - Accuracy: 0.9695\n",
            "Epoch 7/10\n",
            "400/400 [==============================] - 12s 29ms/step - loss: 0.0804 - Accuracy: 0.9665\n",
            "Epoch 8/10\n",
            "400/400 [==============================] - 12s 29ms/step - loss: 0.0768 - Accuracy: 0.9695\n",
            "Epoch 9/10\n",
            "400/400 [==============================] - 12s 30ms/step - loss: 0.0711 - Accuracy: 0.9719\n",
            "Epoch 10/10\n",
            "400/400 [==============================] - 12s 29ms/step - loss: 0.0745 - Accuracy: 0.9710\n"
          ]
        }
      ]
    },
    {
      "cell_type": "code",
      "source": [
        "Second_Step_Model.evaluate(x_test,y_test)"
      ],
      "metadata": {
        "colab": {
          "base_uri": "https://localhost:8080/"
        },
        "id": "6thGWVQKu29t",
        "outputId": "40878f1c-1a88-450e-9cb2-ea6dffc9a479"
      },
      "execution_count": 176,
      "outputs": [
        {
          "output_type": "stream",
          "name": "stdout",
          "text": [
            "100/100 [==============================] - 4s 30ms/step - loss: 0.0626 - Accuracy: 0.9762\n"
          ]
        },
        {
          "output_type": "execute_result",
          "data": {
            "text/plain": [
              "[0.06255251169204712, 0.9762499928474426]"
            ]
          },
          "metadata": {},
          "execution_count": 176
        }
      ]
    },
    {
      "cell_type": "markdown",
      "source": [
        "CROSS TALK MACHINES Second way"
      ],
      "metadata": {
        "id": "B-qRYSgJPgzt"
      }
    },
    {
      "cell_type": "code",
      "source": [
        "class Cross_Talk_Machines():\n",
        "  def __init__(self):\n",
        "    self.resnet50_model=keras.applications.resnet.ResNet50(include_top=False, \n",
        "                  weights='imagenet',input_shape=(32,32,3))\n",
        "  def Single_Step_Transfer_Learning(self,x_train,y_train):\n",
        "    for layer in self.resnet50_model.layers:\n",
        "      layer.trainable=False\n",
        "    flat=keras.layers.Flatten()(self.resnet50_model.output)\n",
        "    Hidden_1=keras.layers.Dense(100,activation='relu')(flat)\n",
        "    output=keras.layers.Dense(1,activation='sigmoid')(Hidden_1)\n",
        "    ResNet_50_Model=keras.models.Model([self.resnet50_model.input],[output])\n",
        "    ResNet_50_Model.compile(optimizer=keras.optimizers.Adam(learning_rate=0.001),\n",
        "              loss='binary_crossentropy',metrics=['Accuracy'])\n",
        "    return ResNet_50_Model.fit(x_train,y_train,epochs=10),ResNet_50_Model\n",
        "  def Double_Step_Transfer_Learning(self,x_train,y_train,x_train_2,y_train_2):\n",
        "    for layer in self.resnet50_model.layers:\n",
        "      layer.trainable=False\n",
        "    flat=keras.layers.Flatten()(self.resnet50_model.output)\n",
        "    Hidden_1=keras.layers.Dense(100,activation='relu')(flat)\n",
        "    output=keras.layers.Dense(1,activation='sigmoid')(Hidden_1)\n",
        "    ResNet_50_Model=keras.models.Model([self.resnet50_model.input],[output])\n",
        "    ResNet_50_Model.compile(optimizer=keras.optimizers.Adam(learning_rate=0.001),\n",
        "              loss='binary_crossentropy',metrics=['Accuracy'])\n",
        "    ResNet_50_Model.fit(x_train,y_train,epochs=10)\n",
        "    print('...... Double step Transfer Learning')\n",
        "    for layer in ResNet_50_Model.layers:\n",
        "      layer.trainable=False\n",
        "    flat_second=keras.layers.Flatten()(ResNet_50_Model.get_layer('conv5_block3_out').output)\n",
        "    Hidden_1_second=keras.layers.Dense(500,activation='relu')(flat_second)\n",
        "    output_second=keras.layers.Dense(1,activation='sigmoid')(Hidden_1_second)\n",
        "    Second_Step_Model=keras.models.Model([ResNet_50_Model.input],[output_second])\n",
        "\n",
        "    Second_Step_Model.compile(optimizer=keras.optimizers.Adam(learning_rate=0.001),\n",
        "              loss='binary_crossentropy',metrics=['Accuracy'])\n",
        "    return Second_Step_Model.fit(x_train_2,y_train_2,epochs=10),Second_Step_Model\n"
      ],
      "metadata": {
        "id": "XB3zTYkQ2FPD"
      },
      "execution_count": 177,
      "outputs": []
    },
    {
      "cell_type": "code",
      "source": [
        "CTM=Cross_Talk_Machines()"
      ],
      "metadata": {
        "id": "9XmBp2CITDDO"
      },
      "execution_count": 178,
      "outputs": []
    },
    {
      "cell_type": "code",
      "source": [
        "transfer_learning_model=CTM.Single_Step_Transfer_Learning(scaled_x_train_2,y_train_2)"
      ],
      "metadata": {
        "colab": {
          "base_uri": "https://localhost:8080/"
        },
        "id": "xFZSrHzNTk-w",
        "outputId": "e2dc4400-dd4a-40f8-904e-5fa7e0139e2c"
      },
      "execution_count": 179,
      "outputs": [
        {
          "output_type": "stream",
          "name": "stdout",
          "text": [
            "Epoch 1/10\n",
            "300/300 [==============================] - 14s 35ms/step - loss: 0.7412 - Accuracy: 0.5100\n",
            "Epoch 2/10\n",
            "300/300 [==============================] - 9s 31ms/step - loss: 0.7177 - Accuracy: 0.5239\n",
            "Epoch 3/10\n",
            "300/300 [==============================] - 8s 25ms/step - loss: 0.6962 - Accuracy: 0.5296\n",
            "Epoch 4/10\n",
            "300/300 [==============================] - 8s 26ms/step - loss: 0.6805 - Accuracy: 0.5458\n",
            "Epoch 5/10\n",
            "300/300 [==============================] - 8s 25ms/step - loss: 0.6978 - Accuracy: 0.5416\n",
            "Epoch 6/10\n",
            "300/300 [==============================] - 8s 25ms/step - loss: 0.6926 - Accuracy: 0.5322\n",
            "Epoch 7/10\n",
            "300/300 [==============================] - 8s 26ms/step - loss: 0.6871 - Accuracy: 0.5410\n",
            "Epoch 8/10\n",
            "300/300 [==============================] - 8s 26ms/step - loss: 0.6790 - Accuracy: 0.5444\n",
            "Epoch 9/10\n",
            "300/300 [==============================] - 8s 26ms/step - loss: 0.6795 - Accuracy: 0.5395\n",
            "Epoch 10/10\n",
            "300/300 [==============================] - 8s 26ms/step - loss: 0.6768 - Accuracy: 0.5508\n"
          ]
        }
      ]
    },
    {
      "cell_type": "code",
      "source": [
        "CTM=Cross_Talk_Machines()\n",
        "Double_Step_transfer_learning_model=CTM.Double_Step_Transfer_Learning(scaled_x_train_2,y_train_2,X,Y)"
      ],
      "metadata": {
        "colab": {
          "base_uri": "https://localhost:8080/"
        },
        "id": "FVjkVaVGT26K",
        "outputId": "bd4cd6eb-8114-476c-9865-89c1fa347eca"
      },
      "execution_count": 180,
      "outputs": [
        {
          "output_type": "stream",
          "name": "stdout",
          "text": [
            "Epoch 1/10\n",
            "300/300 [==============================] - 12s 28ms/step - loss: 0.7335 - Accuracy: 0.5124\n",
            "Epoch 2/10\n",
            "300/300 [==============================] - 8s 26ms/step - loss: 0.7076 - Accuracy: 0.5249\n",
            "Epoch 3/10\n",
            "300/300 [==============================] - 8s 26ms/step - loss: 0.7022 - Accuracy: 0.5295\n",
            "Epoch 4/10\n",
            "300/300 [==============================] - 8s 26ms/step - loss: 0.6972 - Accuracy: 0.5342\n",
            "Epoch 5/10\n",
            "300/300 [==============================] - 8s 28ms/step - loss: 0.6856 - Accuracy: 0.5476\n",
            "Epoch 6/10\n",
            "300/300 [==============================] - 8s 26ms/step - loss: 0.6829 - Accuracy: 0.5434\n",
            "Epoch 7/10\n",
            "300/300 [==============================] - 8s 27ms/step - loss: 0.6774 - Accuracy: 0.5471\n",
            "Epoch 8/10\n",
            "300/300 [==============================] - 8s 26ms/step - loss: 0.6864 - Accuracy: 0.5378\n",
            "Epoch 9/10\n",
            "300/300 [==============================] - 8s 26ms/step - loss: 0.6812 - Accuracy: 0.5447\n",
            "Epoch 10/10\n",
            "300/300 [==============================] - 8s 28ms/step - loss: 0.6741 - Accuracy: 0.5585\n",
            "...... Double step Transfer Learning\n",
            "Epoch 1/10\n",
            "400/400 [==============================] - 15s 27ms/step - loss: 0.2086 - Accuracy: 0.9135\n",
            "Epoch 2/10\n",
            "400/400 [==============================] - 11s 27ms/step - loss: 0.1135 - Accuracy: 0.9509\n",
            "Epoch 3/10\n",
            "400/400 [==============================] - 11s 27ms/step - loss: 0.1003 - Accuracy: 0.9606\n",
            "Epoch 4/10\n",
            "400/400 [==============================] - 11s 27ms/step - loss: 0.1006 - Accuracy: 0.9588\n",
            "Epoch 5/10\n",
            "400/400 [==============================] - 11s 27ms/step - loss: 0.0910 - Accuracy: 0.9648\n",
            "Epoch 6/10\n",
            "400/400 [==============================] - 11s 27ms/step - loss: 0.0857 - Accuracy: 0.9652\n",
            "Epoch 7/10\n",
            "400/400 [==============================] - 11s 27ms/step - loss: 0.0822 - Accuracy: 0.9659\n",
            "Epoch 8/10\n",
            "400/400 [==============================] - 11s 27ms/step - loss: 0.0748 - Accuracy: 0.9716\n",
            "Epoch 9/10\n",
            "400/400 [==============================] - 11s 27ms/step - loss: 0.0790 - Accuracy: 0.9690\n",
            "Epoch 10/10\n",
            "400/400 [==============================] - 11s 26ms/step - loss: 0.0791 - Accuracy: 0.9680\n"
          ]
        }
      ]
    },
    {
      "cell_type": "code",
      "source": [
        "pd.DataFrame(Double_Step_transfer_learning_model[0].history).plot()\n",
        "plt.grid()\n",
        "plt.gca().set_ylim(0,1)\n",
        "plt.show()"
      ],
      "metadata": {
        "colab": {
          "base_uri": "https://localhost:8080/",
          "height": 269
        },
        "id": "I9UqrgU8U9MM",
        "outputId": "b87af099-0fcb-4d32-9358-9172c14f96ea"
      },
      "execution_count": 182,
      "outputs": [
        {
          "output_type": "display_data",
          "data": {
            "text/plain": [
              "<Figure size 432x288 with 1 Axes>"
            ],
            "image/png": "[encoded data removed]"
          },
          "metadata": {
            "needs_background": "light"
          }
        }
      ]
    },
    {
      "cell_type": "code",
      "source": [
        "import numpy as np\n",
        "Double_Step_transfer_learning_model[1].evaluate(x_test,y_test)"
      ],
      "metadata": {
        "colab": {
          "base_uri": "https://localhost:8080/"
        },
        "id": "F_IkX76lXBvr",
        "outputId": "57c72c1c-b107-4344-8ff4-8a935bcb479b"
      },
      "execution_count": 183,
      "outputs": [
        {
          "output_type": "stream",
          "name": "stdout",
          "text": [
            "100/100 [==============================] - 4s 26ms/step - loss: 0.0656 - Accuracy: 0.9769\n"
          ]
        },
        {
          "output_type": "execute_result",
          "data": {
            "text/plain": [
              "[0.06563739478588104, 0.9768750071525574]"
            ]
          },
          "metadata": {},
          "execution_count": 183
        }
      ]
    },
    {
      "cell_type": "markdown",
      "source": [
        "END"
      ],
      "metadata": {
        "id": "f1k4cW4UVttQ"
      }
    },
    {
      "cell_type": "code",
      "source": [
        ""
      ],
      "metadata": {
        "id": "cu5nQjv2cL3Z"
      },
      "execution_count": null,
      "outputs": []
    }
  ]
}